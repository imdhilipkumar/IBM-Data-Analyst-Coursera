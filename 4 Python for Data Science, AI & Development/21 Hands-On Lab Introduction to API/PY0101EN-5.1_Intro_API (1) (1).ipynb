{
  "metadata": {
    "kernelspec": {
      "name": "python",
      "display_name": "Python (Pyodide)",
      "language": "python"
    },
    "language_info": {
      "codemirror_mode": {
        "name": "python",
        "version": 3
      },
      "file_extension": ".py",
      "mimetype": "text/x-python",
      "name": "python",
      "nbconvert_exporter": "python",
      "pygments_lexer": "ipython3",
      "version": "3.8"
    },
    "prev_pub_hash": "0308d40f8129ed22c23f17e5b5bc7efffe113ac143cb8c3f8846045cf953ec56"
  },
  "nbformat_minor": 4,
  "nbformat": 4,
  "cells": [
    {
      "cell_type": "markdown",
      "source": "<center>\n    <img src=\"https://cf-courses-data.s3.us.cloud-object-storage.appdomain.cloud/IBMDeveloperSkillsNetwork-PY0101EN-SkillsNetwork/IDSNlogo.png\" width=\"300\" alt=\"cognitiveclass.ai logo\">\n</center>\n\n# Hands-on Lab: Introduction to API\n\nEstimated time needed: **15** minutes\n\n## Objectives\n\nAfter completing this lab you will be able to:\n\n*   Create and use APIs in Python\n",
      "metadata": {}
    },
    {
      "cell_type": "markdown",
      "source": "### Introduction\n\nAn API lets two pieces of software talk to each other. Just like a function, you don't have to know how the API works, only its inputs and outputs.  An essential type of API is a REST API that allows you to access resources via the internet. In this lab, we will review the Pandas Library in the context of an API, we will also review a basic REST API.\n",
      "metadata": {}
    },
    {
      "cell_type": "markdown",
      "source": "## Table of Contents\n\n<div class=\"alert alert-block alert-info\" style=\"margin-top: 20px\">\n<li><a href=\"#Pandas-is-an-API\">Pandas is an API</a></li>\n<li><a href=\"#REST-APIs\">REST APIs</a></li>\n<li><a href=\"#Quiz\">Quiz</a></li>\n\n</div>\n\n<hr>\n",
      "metadata": {}
    },
    {
      "cell_type": "markdown",
      "source": "## Pandas is an API\n",
      "metadata": {}
    },
    {
      "cell_type": "markdown",
      "source": "Pandas is actually set of software components , much of  which is not even written in Python.\n",
      "metadata": {}
    },
    {
      "cell_type": "code",
      "source": "import pandas as pd\nimport matplotlib.pyplot as plt",
      "metadata": {},
      "outputs": [],
      "execution_count": null
    },
    {
      "cell_type": "markdown",
      "source": "You create a dictionary, this is just data.\n",
      "metadata": {}
    },
    {
      "cell_type": "code",
      "source": "dict_={'a':[11,21,31],'b':[12,22,32]}",
      "metadata": {},
      "outputs": [],
      "execution_count": null
    },
    {
      "cell_type": "markdown",
      "source": "When you create a Pandas object with the dataframe constructor, in API lingo this is an \"instance\". The data in the dictionary is passed along to the pandas API. You then use the dataframe to communicate with the API.\n",
      "metadata": {}
    },
    {
      "cell_type": "code",
      "source": "df=pd.DataFrame(dict_)\ntype(df)",
      "metadata": {},
      "outputs": [],
      "execution_count": null
    },
    {
      "cell_type": "markdown",
      "source": "<img src=\"https://cf-courses-data.s3.us.cloud-object-storage.appdomain.cloud/IBMDeveloperSkillsNetwork-PY0101EN-SkillsNetwork/labs/Module%205/images/pandas_api.png\" width=\"800,\" align=\"center\" alt=\"logistic regression block diagram\">\n",
      "metadata": {}
    },
    {
      "cell_type": "markdown",
      "source": "When you call the method `head` the dataframe communicates with the API displaying the first few rows of the dataframe.\n",
      "metadata": {}
    },
    {
      "cell_type": "code",
      "source": "df.head()",
      "metadata": {},
      "outputs": [],
      "execution_count": null
    },
    {
      "cell_type": "markdown",
      "source": "When you call the method `mean`, the API will calculate the mean and return the value.\n",
      "metadata": {}
    },
    {
      "cell_type": "code",
      "source": "df.mean()",
      "metadata": {},
      "outputs": [],
      "execution_count": null
    },
    {
      "cell_type": "markdown",
      "source": "## REST APIs\n",
      "metadata": {}
    },
    {
      "cell_type": "markdown",
      "source": "<p>Rest APIs function by sending a <b>request</b>, the request is communicated via HTTP message. The HTTP message usually contains a JSON file. This contains instructions for what operation we would like the service or <b>resource</b> to perform. In a similar manner, API returns a <b>response</b>, via an HTTP message, this response is usually contained within a JSON.</p>\n<p>In this lab, we will use the <a href=https://pypi.org/project/nba-api/?utm_medium=Exinfluencer&utm_source=Exinfluencer&utm_content=000026UJ&utm_term=10006555&utm_id=NA-SkillsNetwork-Channel-SkillsNetworkCoursesIBMDeveloperSkillsNetworkPY0101ENSkillsNetwork19487395-2021-01-01>NBA API</a> to determine how well the Golden State Warriors performed against the Toronto Raptors. We will use the API to determine the number of points the Golden State Warriors won or lost by for each game. So if the value is three, the Golden State Warriors won by three points. Similarly it the  Golden State Warriors lost  by two points the result will be negative two. The API will handle a lot of the details, such a Endpoints and Authentication. </p>\n",
      "metadata": {}
    },
    {
      "cell_type": "markdown",
      "source": "It's quite simple to use the nba api to make a request for a specific team. We don't require a JSON, all we require is an id. This information is stored locally in the API. We import the module `teams`.\n",
      "metadata": {}
    },
    {
      "cell_type": "code",
      "source": "!pip install nba_api",
      "metadata": {},
      "outputs": [],
      "execution_count": null
    },
    {
      "cell_type": "code",
      "source": "from nba_api.stats.static import teams\nimport matplotlib.pyplot as plt",
      "metadata": {},
      "outputs": [],
      "execution_count": null
    },
    {
      "cell_type": "code",
      "source": "def one_dict(list_dict):\n    keys=list_dict[0].keys()\n    out_dict={key:[] for key in keys}\n    for dict_ in list_dict:\n        for key, value in dict_.items():\n            out_dict[key].append(value)\n    return out_dict",
      "metadata": {},
      "outputs": [],
      "execution_count": null
    },
    {
      "cell_type": "markdown",
      "source": "The method <code>get_teams()</code> returns a list of dictionaries.\n",
      "metadata": {}
    },
    {
      "cell_type": "code",
      "source": "nba_teams = teams.get_teams()",
      "metadata": {},
      "outputs": [],
      "execution_count": null
    },
    {
      "cell_type": "markdown",
      "source": "The dictionary key id has a unique identifier for each team as a value. Let's look at the first three elements of the list:\n",
      "metadata": {}
    },
    {
      "cell_type": "code",
      "source": "nba_teams[0:3]",
      "metadata": {},
      "outputs": [],
      "execution_count": null
    },
    {
      "cell_type": "markdown",
      "source": "To make things easier, we can convert the dictionary to a table. First, we use the function <code>one dict</code>, to create a dictionary. We use the common keys for each team as the keys, the value is a list; each element of the list corresponds to the values for each team.\nWe then convert the dictionary to a dataframe, each row contains the information for a different team.\n",
      "metadata": {}
    },
    {
      "cell_type": "code",
      "source": "dict_nba_team=one_dict(nba_teams)\ndf_teams=pd.DataFrame(dict_nba_team)\ndf_teams.head()",
      "metadata": {},
      "outputs": [],
      "execution_count": null
    },
    {
      "cell_type": "markdown",
      "source": "Will use the team's nickname to find the unique id, we can see the row that contains the warriors by using the column nickname as follows:\n",
      "metadata": {}
    },
    {
      "cell_type": "code",
      "source": "df_warriors=df_teams[df_teams['nickname']=='Warriors']\ndf_warriors",
      "metadata": {},
      "outputs": [],
      "execution_count": null
    },
    {
      "cell_type": "markdown",
      "source": "We can use the following line of code to access the first column of the DataFrame:\n",
      "metadata": {}
    },
    {
      "cell_type": "code",
      "source": "id_warriors=df_warriors[['id']].values[0][0]\n# we now have an integer that can be used to request the Warriors information \nid_warriors",
      "metadata": {},
      "outputs": [],
      "execution_count": null
    },
    {
      "cell_type": "markdown",
      "source": "The function \"League Game Finder \" will make an API call, it's in the module <code>stats.endpoints</code>.\n",
      "metadata": {}
    },
    {
      "cell_type": "code",
      "source": "from nba_api.stats.endpoints import leaguegamefinder",
      "metadata": {},
      "outputs": [],
      "execution_count": null
    },
    {
      "cell_type": "markdown",
      "source": "The parameter <code>team_id_nullable</code> is the unique ID for the warriors. Under the hood, the NBA API is making a HTTP request.\\\nThe information requested is provided and is transmitted via an HTTP response this is assigned to the object <code>game finder</code>.\n",
      "metadata": {}
    },
    {
      "cell_type": "code",
      "source": "# Since https://stats.nba.com does not allow api calls from Cloud IPs and Skills Network Labs uses a Cloud IP.\n# The following code is commented out, you can run it on jupyter labs on your own computer.\n# gamefinder = leaguegamefinder.LeagueGameFinder(team_id_nullable=id_warriors)",
      "metadata": {},
      "outputs": [],
      "execution_count": null
    },
    {
      "cell_type": "markdown",
      "source": "We can see the json file by running the following line of code.\n",
      "metadata": {}
    },
    {
      "cell_type": "code",
      "source": "# Since https://stats.nba.com does not allow api calls from Cloud IPs and Skills Network Labs uses a Cloud IP.\n# The following code is commented out, you can run it on jupyter labs on your own computer.\n# gamefinder.get_json()",
      "metadata": {},
      "outputs": [],
      "execution_count": null
    },
    {
      "cell_type": "markdown",
      "source": "The game finder object has a method <code>get_data_frames()</code>, that returns a dataframe.  If we view the dataframe, we can see it contains information about all the games the Warriors played.  The <code>PLUS_MINUS</code> column contains information on the score, if the value is negative, the Warriors lost by that many points, if the value is positive, the warriors won by that amount of points. The column <code>MATCHUP</code> has the team the Warriors were playing, GSW stands for Golden State Warriors and TOR means Toronto Raptors. <code>vs</code> signifies it was a home game and the <code>@ </code>symbol means an away game.\n",
      "metadata": {}
    },
    {
      "cell_type": "code",
      "source": "# Since https://stats.nba.com does not allow api calls from Cloud IPs and Skills Network Labs uses a Cloud IP.\n# The following code is comment out, you can run it on jupyter labs on your own computer.\n# games = gamefinder.get_data_frames()[0]\n# games.head()",
      "metadata": {},
      "outputs": [],
      "execution_count": null
    },
    {
      "cell_type": "markdown",
      "source": "You can download the dataframe from the API call for Golden State and run the rest like a video.\n",
      "metadata": {}
    },
    {
      "cell_type": "code",
      "source": "import requests\n\nfilename = \"https://s3-api.us-geo.objectstorage.softlayer.net/cf-courses-data/CognitiveClass/PY0101EN/Chapter%205/Labs/Golden_State.pkl\"\n\ndef download(url, filename):\n    response = requests.get(url)\n    if response.status_code == 200:\n        with open(filename, \"wb\") as f:\n            f.write(response.content)\n\ndownload(filename, \"Golden_State.pkl\")\n",
      "metadata": {},
      "outputs": [],
      "execution_count": null
    },
    {
      "cell_type": "code",
      "source": "file_name = \"Golden_State.pkl\"\ngames = pd.read_pickle(file_name)\ngames.head()",
      "metadata": {},
      "outputs": [],
      "execution_count": null
    },
    {
      "cell_type": "markdown",
      "source": "We can create two dataframes, one for the games that the Warriors faced the raptors at home, and the second for away games.\n",
      "metadata": {}
    },
    {
      "cell_type": "code",
      "source": "games_home=games[games['MATCHUP']=='GSW vs. TOR']\ngames_away=games[games['MATCHUP']=='GSW @ TOR']",
      "metadata": {},
      "outputs": [],
      "execution_count": null
    },
    {
      "cell_type": "markdown",
      "source": "We can calculate the mean for the column <code>PLUS_MINUS</code> for the dataframes <code>games_home</code> and <code> games_away</code>:\n",
      "metadata": {}
    },
    {
      "cell_type": "code",
      "source": "games_home['PLUS_MINUS'].mean()",
      "metadata": {},
      "outputs": [],
      "execution_count": null
    },
    {
      "cell_type": "code",
      "source": "games_away['PLUS_MINUS'].mean()",
      "metadata": {},
      "outputs": [],
      "execution_count": null
    },
    {
      "cell_type": "markdown",
      "source": "We can plot out the <code>PLUS MINUS</code> column for the dataframes <code>games_home</code> and <code> games_away</code>.\nWe see the warriors played better at home.\n",
      "metadata": {}
    },
    {
      "cell_type": "code",
      "source": "fig, ax = plt.subplots()\n\ngames_away.plot(x='GAME_DATE',y='PLUS_MINUS', ax=ax)\ngames_home.plot(x='GAME_DATE',y='PLUS_MINUS', ax=ax)\nax.legend([\"away\", \"home\"])\nplt.show()",
      "metadata": {},
      "outputs": [],
      "execution_count": null
    },
    {
      "cell_type": "markdown",
      "source": "## Quiz\n",
      "metadata": {}
    },
    {
      "cell_type": "markdown",
      "source": "Calculate the mean for the column <code>PTS</code> for the dataframes <code>games_home</code> and <code> games_away</code>:\n",
      "metadata": {}
    },
    {
      "cell_type": "code",
      "source": "# Write your code below and press Shift+Enter to execute\ngames_home['PTS'].mean()\n\ngames_away['PTS'].mean()",
      "metadata": {},
      "outputs": [],
      "execution_count": null
    },
    {
      "cell_type": "markdown",
      "source": "<details><summary>Click here for the solution</summary>\n\n```python\ngames_home['PTS'].mean()\n\ngames_away['PTS'].mean()\n\n```\n\n</details>\n",
      "metadata": {}
    },
    {
      "cell_type": "markdown",
      "source": "## Authors:\n\n[Joseph Santarcangelo](https://www.linkedin.com/in/joseph-s-50398b136/)\n\nJoseph Santarcangelo has a PhD in Electrical Engineering, his research focused on using machine learning, signal processing, and computer vision to determine how videos impact human cognition. Joseph has been working for IBM since he completed his PhD.\n<!---\n## Change Log\n\n| Date (YYYY-MM-DD) | Version | Changed By    | Change Description                 |\n| ----------------- | ------- | ------------- | ---------------------------------- |\n| 2023-11-09 | 2.2 | Abhishek Gagneja | Minor formatting updates and some instructional updates | \n| 2020-09-09        | 2.1     | Malika Singla | Spell Check                        |\n| 2020-08-26        | 2.0     | Lavanya       | Moved lab to course repo in GitLab |\n|                   |         |               |                                    |\n|                   |         |               |                                    |\n---!>\n\n<hr/>\n\n## <h3 align=\"center\"> © IBM Corporation 2023. All rights reserved. <h3/>\n",
      "metadata": {}
    },
    {
      "cell_type": "code",
      "source": "",
      "metadata": {},
      "outputs": [],
      "execution_count": null
    }
  ]
}