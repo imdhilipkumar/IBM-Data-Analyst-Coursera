{
  "metadata": {
    "kernelspec": {
      "name": "python",
      "display_name": "Python (Pyodide)",
      "language": "python"
    },
    "language_info": {
      "codemirror_mode": {
        "name": "python",
        "version": 3
      },
      "file_extension": ".py",
      "mimetype": "text/x-python",
      "name": "python",
      "nbconvert_exporter": "python",
      "pygments_lexer": "ipython3",
      "version": "3.8"
    },
    "prev_pub_hash": "47c087b7d71219e98586b9828101edbdadbc2971317ee276c358667a27b36b51"
  },
  "nbformat_minor": 4,
  "nbformat": 4,
  "cells": [
    {
      "cell_type": "markdown",
      "source": "<a href=\"https://cognitiveclass.ai/?utm_medium=Exinfluencer&utm_source=Exinfluencer&utm_content=000026UJ&utm_term=10006555&utm_id=NA-SkillsNetwork-Channel-SkillsNetworkCoursesIBMDeveloperSkillsNetworkPY0101ENSkillsNetwork19487395-2021-01-01\">\n    <img src=\"https://cf-courses-data.s3.us.cloud-object-storage.appdomain.cloud/IBMDeveloperSkillsNetwork-PY0101EN-SkillsNetwork/IDSNlogo.png\" width=\"300\" align=\"center\">\n</a>\n",
      "metadata": {}
    },
    {
      "cell_type": "markdown",
      "source": "<h1> HTTP and Requests</h1>\n\nEstimated time needed: **30** minutes\n\n## Objectives\n\nAfter completing this lab you will be able to:\n\n*   Understand HTTP\n*   Handle HTTP Requests\n",
      "metadata": {}
    },
    {
      "cell_type": "markdown",
      "source": "<h2>Table of Contents</h2>\n\n<div class=\"alert alert-block alert-info\" style=\"margin-top: 20px\">\n    <ul>\n        <li>\n            <a href=\"#Overview-of-HTTP\">Overview of HTTP </a>\n            <ul>\n                <li><a href=\"#Uniform-Resource-Locator:URL\">Uniform Resource Locator:URL</a></li>\n                 <li><a href=\"#Request\">Request</a></li>\n                <li><a href=\"#Response\">Response</a></li>\n            </ul>\n        </li>\n        <li>\n            <a href=\"#Requests-in-Python\">Requests in Python  </a>\n            <ul>\n                <li><a href=\"#Get-Request-with-URL-Parameters\">Get Request with URL Parameters</a></li>\n                <li><a href=\"#Post-Requests\">Post Requests </a></li>\n\n</ul>\n\n</div>\n\n<hr>\n",
      "metadata": {}
    },
    {
      "cell_type": "markdown",
      "source": "## Overview of HTTP\n",
      "metadata": {}
    },
    {
      "cell_type": "markdown",
      "source": "When you, the **client**, use a web page your browser sends an **HTTP** request to the **server** where the page is hosted. The server tries to find the desired **resource** by default \"<code>index.html</code>\". If your request is successful, the server will send the object to the client in an **HTTP response**. This includes information like the type of the **resource**, the length of the **resource**, and other information.\n\n<p>\nThe figure below represents the process. The circle on the left represents the client, the circle on the right represents the Web server. The table under the Web server represents a list of resources stored in the web server. In  this case an <code>HTML</code> file, <code>png</code> image, and <code>txt</code> file .\n</p>\n<p>\nThe <b>HTTP</b> protocol allows you to send and receive information through the web including webpages, images, and other web resources. In this lab, we will provide an overview of the Requests library for interacting with the <code>HTTP</code> protocol. \n</p\n",
      "metadata": {}
    },
    {
      "cell_type": "markdown",
      "source": "<div class=\"alert alert-block alert-info\" style=\"margin-top: 20px\">\n         <img src=\"https://cf-courses-data.s3.us.cloud-object-storage.appdomain.cloud/IBMDeveloperSkillsNetwork-PY0101EN-SkillsNetwork/labs/Module%205/images/reqest_basics.png\" width=\"750\" align=\"center\">\n\n</div>\n",
      "metadata": {}
    },
    {
      "cell_type": "markdown",
      "source": "## Uniform Resource Locator:URL\n",
      "metadata": {}
    },
    {
      "cell_type": "markdown",
      "source": "Uniform resource locator (URL) is the most popular way to find resources on the web.  We can break the URL into three parts.\n\n<ul>\n    <li><b>Scheme</b>:- This is this protocol, for this lab it will always be <code>http://</code>  </li>\n    <li><b> Internet address or  Base URL </b>:- This will be used to find the location here are some examples: <code>www.ibm.com</code> and  <code> www.gitlab.com </code> </li>\n    <li><b>Route</b>:- Location on the web server for example: <code>/images/IDSNlogo.png</code> </li>\n</ul>\n",
      "metadata": {}
    },
    {
      "cell_type": "markdown",
      "source": "You may also hear the term Uniform Resource Identifier (URI), URL are actually a subset of URIs. Another popular term is endpoint, this is the URL of an operation provided by a Web server.\n",
      "metadata": {}
    },
    {
      "cell_type": "markdown",
      "source": "## Request\n",
      "metadata": {}
    },
    {
      "cell_type": "markdown",
      "source": "The process can be broken into the <b>Request</b> and <b>Response </b> process.  The request using the get method is partially illustrated below. In the start line we have the <code>GET</code> method, this is an <code>HTTP</code> method. Also the location of the resource  <code>/index.html</code> and the <code>HTTP</code> version. The Request header passes additional information with an <code>HTTP</code> request:\n",
      "metadata": {}
    },
    {
      "cell_type": "markdown",
      "source": "<div class=\"alert alert-block alert-info\" style=\"margin-top: 20px\">\n         <img src=\"https://cf-courses-data.s3.us.cloud-object-storage.appdomain.cloud/IBMDeveloperSkillsNetwork-PY0101EN-SkillsNetwork/labs/Module%205/images/reqest_messege.png\" width=\"400\" align=\"center\">\n</div>\n",
      "metadata": {}
    },
    {
      "cell_type": "markdown",
      "source": "When an <code>HTTP</code> request is made, an <code>HTTP</code> method is sent, this tells the server what action to perform.  A list of several <code>HTTP</code> methods is shown below. We will go over more examples later.\n",
      "metadata": {}
    },
    {
      "cell_type": "markdown",
      "source": "<div class=\"alert alert-block alert-info\" style=\"margin-top: 20px\">\n         <img src=\"https://cf-courses-data.s3.us.cloud-object-storage.appdomain.cloud/IBMDeveloperSkillsNetwork-PY0101EN-SkillsNetwork/labs/Module%205/images/http_methods.png\" width=\"400\" align=\"center\">\n</div>\n",
      "metadata": {}
    },
    {
      "cell_type": "markdown",
      "source": "## Response\n",
      "metadata": {}
    },
    {
      "cell_type": "markdown",
      "source": "The figure below represents the response; the response start line contains the version number <code>HTTP/1.0</code>, a status code (200) meaning success, followed by a descriptive phrase (OK). The response header contains useful information. Finally, we have the response body containing the requested file, an <code> HTML </code> document.  It should be noted that some requests have headers.\n",
      "metadata": {}
    },
    {
      "cell_type": "markdown",
      "source": "<div class=\"alert alert-block alert-info\" style=\"margin-top: 20px\">\n         <img src=\"https://cf-courses-data.s3.us.cloud-object-storage.appdomain.cloud/IBMDeveloperSkillsNetwork-PY0101EN-SkillsNetwork/labs/Module%205/images/response_message.png\" width=\"400\" align=\"center\">\n</div>\n",
      "metadata": {}
    },
    {
      "cell_type": "markdown",
      "source": "Some status code examples are shown in the table below, the prefix indicates the class. These are shown in yellow, with actual status codes shown in  white. Check out the following <a href=\"https://developer.mozilla.org/en-US/docs/Web/HTTP/Status?utm_medium=Exinfluencer&utm_source=Exinfluencer&utm_content=000026UJ&utm_term=10006555&utm_id=NA-SkillsNetwork-Channel-SkillsNetworkCoursesIBMDeveloperSkillsNetworkPY0101ENSkillsNetwork19487395-2021-01-01\">link </a> for more descriptions.\n",
      "metadata": {}
    },
    {
      "cell_type": "markdown",
      "source": "<div class=\"alert alert-block alert-info\" style=\"margin-top: 20px\">\n         <img src=\"https://cf-courses-data.s3.us.cloud-object-storage.appdomain.cloud/IBMDeveloperSkillsNetwork-PY0101EN-SkillsNetwork/labs/Module%205/images/status_code.png\" width=\"300\" align=\"center\">\n</div>\n",
      "metadata": {}
    },
    {
      "cell_type": "markdown",
      "source": "## Requests in Python\n",
      "metadata": {}
    },
    {
      "cell_type": "markdown",
      "source": "Requests is a Python Library that allows you to send <code>HTTP/1.1</code> requests easily. We can import the library as follows:\n",
      "metadata": {}
    },
    {
      "cell_type": "code",
      "source": "import requests",
      "metadata": {},
      "outputs": [],
      "execution_count": null
    },
    {
      "cell_type": "markdown",
      "source": "We will also use the following libraries:\n",
      "metadata": {}
    },
    {
      "cell_type": "code",
      "source": "import os \nfrom PIL import Image\nfrom IPython.display import IFrame",
      "metadata": {},
      "outputs": [],
      "execution_count": null
    },
    {
      "cell_type": "markdown",
      "source": "You can make a <code>GET</code> request via the method <code>get</code> to [www.ibm.com](http://www.ibm.com/?utm_source=Exinfluencer&utm_content=000026UJ&utm_id=NA-SkillsNetwork-Channel-SkillsNetworkCoursesIBMDeveloperSkillsNetworkPY0101ENSkillsNetwork19487395-2021-01-01&utm_medium=Exinfluencer&utm_term=10006555):\n",
      "metadata": {}
    },
    {
      "cell_type": "code",
      "source": "\nurl='https://www.ibm.com/'\nr=requests.get(url)\n",
      "metadata": {},
      "outputs": [],
      "execution_count": null
    },
    {
      "cell_type": "markdown",
      "source": "We have the response object <code>r</code>, this has information about the request, like the status of the request. We can view the status code using the attribute <code>status_code</code>.\n",
      "metadata": {}
    },
    {
      "cell_type": "code",
      "source": "r.status_code",
      "metadata": {},
      "outputs": [],
      "execution_count": null
    },
    {
      "cell_type": "markdown",
      "source": "You can view the request headers:\n",
      "metadata": {}
    },
    {
      "cell_type": "code",
      "source": "print(r.request.headers)",
      "metadata": {},
      "outputs": [],
      "execution_count": null
    },
    {
      "cell_type": "markdown",
      "source": "You can view the request body, in the following line, as there is no body for a get request we get a <code>None</code>:\n",
      "metadata": {}
    },
    {
      "cell_type": "code",
      "source": "print(\"request body:\", r.request.body)",
      "metadata": {},
      "outputs": [],
      "execution_count": null
    },
    {
      "cell_type": "markdown",
      "source": "You can view the <code>HTTP</code> response header using the attribute <code>headers</code>. This returns a python dictionary of <code>HTTP</code> response headers.\n",
      "metadata": {}
    },
    {
      "cell_type": "code",
      "source": "header=r.headers\nprint(r.headers)",
      "metadata": {},
      "outputs": [],
      "execution_count": null
    },
    {
      "cell_type": "markdown",
      "source": "We can obtain the date the request was sent using the key <code>Date</code>.\n",
      "metadata": {}
    },
    {
      "cell_type": "code",
      "source": "header['date']",
      "metadata": {},
      "outputs": [],
      "execution_count": null
    },
    {
      "cell_type": "markdown",
      "source": "<code>Content-Type</code> indicates the type of data:\n",
      "metadata": {}
    },
    {
      "cell_type": "code",
      "source": "header['Content-Type']",
      "metadata": {},
      "outputs": [],
      "execution_count": null
    },
    {
      "cell_type": "markdown",
      "source": "You can also check the <code>encoding</code>:\n",
      "metadata": {}
    },
    {
      "cell_type": "code",
      "source": " r.encoding",
      "metadata": {},
      "outputs": [],
      "execution_count": null
    },
    {
      "cell_type": "markdown",
      "source": "As the <code>Content-Type</code> is <code>text/html</code> we can use the attribute <code>text</code> to display the <code>HTML</code> in the body. We can review the first 100 characters:\n",
      "metadata": {}
    },
    {
      "cell_type": "code",
      "source": "r.text[0:100]",
      "metadata": {},
      "outputs": [],
      "execution_count": null
    },
    {
      "cell_type": "markdown",
      "source": "You can load other types of data for non-text requests, like images. Consider the URL of the following image:\n",
      "metadata": {}
    },
    {
      "cell_type": "code",
      "source": "# Use single quotation marks for defining string\nurl='https://cf-courses-data.s3.us.cloud-object-storage.appdomain.cloud/IBMDeveloperSkillsNetwork-PY0101EN-SkillsNetwork/IDSNlogo.png'",
      "metadata": {},
      "outputs": [],
      "execution_count": null
    },
    {
      "cell_type": "markdown",
      "source": "We can make a get request:\n",
      "metadata": {}
    },
    {
      "cell_type": "code",
      "source": "r=requests.get(url)",
      "metadata": {},
      "outputs": [],
      "execution_count": null
    },
    {
      "cell_type": "markdown",
      "source": "We can look at the response header:\n",
      "metadata": {}
    },
    {
      "cell_type": "code",
      "source": "print(r.headers)",
      "metadata": {},
      "outputs": [],
      "execution_count": null
    },
    {
      "cell_type": "markdown",
      "source": "We can see the <code>'Content-Type'</code>\n",
      "metadata": {}
    },
    {
      "cell_type": "code",
      "source": "r.headers['Content-Type']",
      "metadata": {},
      "outputs": [],
      "execution_count": null
    },
    {
      "cell_type": "markdown",
      "source": "An image is a response object that contains the image as a <a href=\"https://docs.python.org/3/glossary.html?utm_medium=Exinfluencer&utm_source=Exinfluencer&utm_content=000026UJ&utm_term=10006555&utm_id=NA-SkillsNetwork-Channel-SkillsNetworkCoursesIBMDeveloperSkillsNetworkPY0101ENSkillsNetwork19487395-2021-01-01#term-bytes-like-object\">bytes-like object</a>. As a result, we must save it using a file object. First, we specify the <u>file path and\nname</u>\n",
      "metadata": {}
    },
    {
      "cell_type": "code",
      "source": "path=os.path.join(os.getcwd(),'image.png')",
      "metadata": {},
      "outputs": [],
      "execution_count": null
    },
    {
      "cell_type": "markdown",
      "source": "We save the file, in order to access the body of the response we use the attribute <code>content</code> then save it using the <code>open</code> function and write <code>method</code>:\n",
      "metadata": {}
    },
    {
      "cell_type": "code",
      "source": "with open(path,'wb') as f:\n    f.write(r.content)",
      "metadata": {},
      "outputs": [],
      "execution_count": null
    },
    {
      "cell_type": "markdown",
      "source": "We can view the image:\n",
      "metadata": {}
    },
    {
      "cell_type": "code",
      "source": "Image.open(path)",
      "metadata": {},
      "outputs": [],
      "execution_count": null
    },
    {
      "cell_type": "markdown",
      "source": "<h3>Question: Download a file </h3>\n",
      "metadata": {}
    },
    {
      "cell_type": "markdown",
      "source": "Consider the following URL.\n",
      "metadata": {}
    },
    {
      "cell_type": "markdown",
      "source": "<code>URL = <https://cf-courses-data.s3.us.cloud-object-storage.appdomain.cloud/IBMDeveloperSkillsNetwork-PY0101EN-SkillsNetwork/labs/Module%205/data/Example1.txt</code>\n",
      "metadata": {}
    },
    {
      "cell_type": "markdown",
      "source": "Write the commands to download the txt file in the given link.\n",
      "metadata": {}
    },
    {
      "cell_type": "code",
      "source": "url='https://cf-courses-data.s3.us.cloud-object-storage.appdomain.cloud/IBMDeveloperSkillsNetwork-PY0101EN-SkillsNetwork/labs/Module%205/data/Example1.txt'\npath=os.path.join(os.getcwd(),'example1.txt')\nr=requests.get(url)\nwith open(path,'wb') as f:\n    f.write(r.content)",
      "metadata": {},
      "outputs": [],
      "execution_count": null
    },
    {
      "cell_type": "markdown",
      "source": "<details><summary>Click here for the solution</summary>\n\n```python\nurl='https://cf-courses-data.s3.us.cloud-object-storage.appdomain.cloud/IBMDeveloperSkillsNetwork-PY0101EN-SkillsNetwork/labs/Module%205/data/Example1.txt'\npath=os.path.join(os.getcwd(),'example1.txt')\nr=requests.get(url)\nwith open(path,'wb') as f:\n    f.write(r.content)\n\n```\n\n</details>\n",
      "metadata": {}
    },
    {
      "cell_type": "markdown",
      "source": "## Get Request with URL Parameters\n",
      "metadata": {}
    },
    {
      "cell_type": "markdown",
      "source": "You can use the <b>GET</b> method to modify the results of your query, for example retrieving data from an API. We send a <b>GET</b> request to the  server. Like before we have the <b>Base URL</b>, in the <b>Route</b> we append <code>/get</code>, this indicates we would like to preform a <code>GET</code> request. \n",
      "metadata": {}
    },
    {
      "cell_type": "markdown",
      "source": "The Base URL is for <code>[http://httpbin.org/](http://httpbin.org/?utm_medium=Exinfluencer&utm_source=Exinfluencer&utm_content=000026UJ&utm_term=10006555&utm_id=NA-SkillsNetwork-Channel-SkillsNetworkCoursesIBMDeveloperSkillsNetworkPY0101ENSkillsNetwork19487395-2021-01-01)</code> is a simple HTTP Request & Response Service. The <code>URL</code> in Python is given by:\n",
      "metadata": {}
    },
    {
      "cell_type": "code",
      "source": "url_get='http://httpbin.org/get'",
      "metadata": {},
      "outputs": [],
      "execution_count": null
    },
    {
      "cell_type": "markdown",
      "source": "A <a href=\"https://en.wikipedia.org/wiki/Query_string?utm_medium=Exinfluencer&utm_source=Exinfluencer&utm_content=000026UJ&utm_term=10006555&utm_id=NA-SkillsNetwork-Channel-SkillsNetworkCoursesIBMDeveloperSkillsNetworkPY0101ENSkillsNetwork19487395-2021-01-01\">query string</a> is a part of a uniform resource locator (URL), this sends other information to the web server. The start of the query is a <code>?</code>, followed by a series of parameter and value pairs, as shown in the table below. The first parameter name is <code>name</code> and the value is <code>Joseph</code>. The second parameter name is <code>ID</code> and the Value is <code>123</code>. Each pair, parameter, and value is separated by an equals sign, <code>=</code>.\nThe series of pairs is separated by the ampersand <code>&</code>.\n",
      "metadata": {}
    },
    {
      "cell_type": "markdown",
      "source": "<div class=\"alert alert-block alert-info\" style=\"margin-top: 20px\">\n         <img src=\"https://cf-courses-data.s3.us.cloud-object-storage.appdomain.cloud/IBMDeveloperSkillsNetwork-PY0101EN-SkillsNetwork/labs/Module%205/images/query_string.png\" width=\"500\" align=\"center\">\n</div>\n",
      "metadata": {}
    },
    {
      "cell_type": "markdown",
      "source": "To create a Query string, add a dictionary. The keys are the parameter names and the values are the value of the Query string.\n",
      "metadata": {}
    },
    {
      "cell_type": "code",
      "source": "payload={\"name\":\"Joseph\",\"ID\":\"123\"}",
      "metadata": {},
      "outputs": [],
      "execution_count": null
    },
    {
      "cell_type": "markdown",
      "source": "Then passing the dictionary <code>payload</code> to the <code>params</code> parameter of the <code> get()</code> function:\n",
      "metadata": {}
    },
    {
      "cell_type": "code",
      "source": "r=requests.get(url_get,params=payload)",
      "metadata": {},
      "outputs": [],
      "execution_count": null
    },
    {
      "cell_type": "markdown",
      "source": "We can print out the <code>URL</code> and see the name and values.\n",
      "metadata": {}
    },
    {
      "cell_type": "code",
      "source": "r.url",
      "metadata": {},
      "outputs": [],
      "execution_count": null
    },
    {
      "cell_type": "markdown",
      "source": "There is no request body.\n",
      "metadata": {}
    },
    {
      "cell_type": "code",
      "source": "print(\"request body:\", r.request.body)",
      "metadata": {},
      "outputs": [],
      "execution_count": null
    },
    {
      "cell_type": "markdown",
      "source": "We can print out the status code.\n",
      "metadata": {}
    },
    {
      "cell_type": "code",
      "source": "print(r.status_code)",
      "metadata": {},
      "outputs": [],
      "execution_count": null
    },
    {
      "cell_type": "markdown",
      "source": "We can view the response as text:\n",
      "metadata": {}
    },
    {
      "cell_type": "code",
      "source": "print(r.text)",
      "metadata": {},
      "outputs": [],
      "execution_count": null
    },
    {
      "cell_type": "markdown",
      "source": "We can look at the <code>'Content-Type'</code>.\n",
      "metadata": {}
    },
    {
      "cell_type": "code",
      "source": "r.headers['Content-Type']",
      "metadata": {},
      "outputs": [],
      "execution_count": null
    },
    {
      "cell_type": "markdown",
      "source": "As the content <code>'Content-Type'</code> is in the <code>JSON</code> format we can use the method <code>json()</code>, it returns a Python <code>dict</code>:\n",
      "metadata": {}
    },
    {
      "cell_type": "code",
      "source": "r.json()",
      "metadata": {},
      "outputs": [],
      "execution_count": null
    },
    {
      "cell_type": "markdown",
      "source": "The key <code>args</code> has the name and values:\n",
      "metadata": {}
    },
    {
      "cell_type": "code",
      "source": "r.json()['args']",
      "metadata": {},
      "outputs": [],
      "execution_count": null
    },
    {
      "cell_type": "markdown",
      "source": "## Post Requests\n",
      "metadata": {}
    },
    {
      "cell_type": "markdown",
      "source": "Like a <code>GET</code> request, a <code>POST</code> is used to send data to a server, but the <code>POST</code> request sends the data in a request body. In order to send the Post Request in Python, in the <code>URL</code> we change the route to <code>POST</code>:\n",
      "metadata": {}
    },
    {
      "cell_type": "code",
      "source": "url_post='http://httpbin.org/post'",
      "metadata": {},
      "outputs": [],
      "execution_count": null
    },
    {
      "cell_type": "markdown",
      "source": "This endpoint will expect data as a file or as a form. A form is convenient way to configure an HTTP request to send data to a server.\n",
      "metadata": {}
    },
    {
      "cell_type": "markdown",
      "source": "To make a <code>POST</code> request we use the <code>post()</code> function, the variable <code>payload</code> is passed to the parameter <code> data </code>:\n",
      "metadata": {}
    },
    {
      "cell_type": "code",
      "source": "r_post=requests.post(url_post,data=payload)",
      "metadata": {},
      "outputs": [],
      "execution_count": null
    },
    {
      "cell_type": "markdown",
      "source": "Comparing the URL from the response object of the <code>GET</code> and <code>POST</code> request we see the <code>POST</code> request has no name or value pairs.\n",
      "metadata": {}
    },
    {
      "cell_type": "code",
      "source": "#print(\"POST request URL:\",response.url )\n#print(\"GET request URL:\",r.url)\nprint(\"POST request URL:\", r_post.url)  # Use r_post instead of response",
      "metadata": {},
      "outputs": [],
      "execution_count": null
    },
    {
      "cell_type": "markdown",
      "source": "We can compare the <code>POST</code> and <code>GET</code> request body, we see only the <code>POST</code> request has a body:\n",
      "metadata": {}
    },
    {
      "cell_type": "code",
      "source": "print(\"POST request body:\",r_post.request.body)\nprint(\"GET request body:\",r.request.body)",
      "metadata": {},
      "outputs": [],
      "execution_count": null
    },
    {
      "cell_type": "markdown",
      "source": "We can view the form as well:\n",
      "metadata": {}
    },
    {
      "cell_type": "code",
      "source": "r_post.json()['form']",
      "metadata": {},
      "outputs": [],
      "execution_count": null
    },
    {
      "cell_type": "markdown",
      "source": "There is a lot more you can do. Check out <a href=\"https://requests.readthedocs.io/en/master/?utm_medium=Exinfluencer&utm_source=Exinfluencer&utm_content=000026UJ&utm_term=10006555&utm_id=NA-SkillsNetwork-Channel-SkillsNetworkCoursesIBMDeveloperSkillsNetworkPY0101ENSkillsNetwork19487395-2021-01-01\">Requests </a> for more.\n",
      "metadata": {}
    },
    {
      "cell_type": "markdown",
      "source": "<hr>\n",
      "metadata": {}
    },
    {
      "cell_type": "markdown",
      "source": "## Authors\n\n<p><a href=\"https://www.linkedin.com/in/joseph-s-50398b136/?utm_medium=Exinfluencer&utm_source=Exinfluencer&utm_content=000026UJ&utm_term=10006555&utm_id=NA-SkillsNetwork-Channel-SkillsNetworkCoursesIBMDeveloperSkillsNetworkPY0101ENSkillsNetwork19487395-2021-01-01\" target=\"_blank\">Joseph Santarcangelo</a> <br>A Data Scientist at IBM, and holds a PhD in Electrical Engineering. His research focused on using Machine Learning, Signal Processing, and Computer Vision to determine how videos impact human cognition. Joseph has been working for IBM since he completed his PhD.</p>\n",
      "metadata": {}
    },
    {
      "cell_type": "markdown",
      "source": "### Other Contributors\n\n<a href=\"https://www.linkedin.com/in/jiahui-mavis-zhou-a4537814a?utm_medium=Exinfluencer&utm_source=Exinfluencer&utm_content=000026UJ&utm_term=10006555&utm_id=NA-SkillsNetwork-Channel-SkillsNetworkCoursesIBMDeveloperSkillsNetworkPY0101ENSkillsNetwork19487395-2021-01-01\">Mavis Zhou</a>\n",
      "metadata": {}
    },
    {
      "cell_type": "markdown",
      "source": "## <h3 align=\"center\"> © IBM Corporation 2023. All rights reserved. <h3/>\n<!--\n## Change Log\n\n| Date (YYYY-MM-DD) | Version | Changed By | Change Description           |\n| ----------------- | ------- | ---------- | ---------------------------- |\n| 2023-11-02 | 2.4 | Abhishek Gagneja | Updated instructions |\n| 2023-06-07        | 2.3     |Akansha Yadav| Spell Check                 |\n| 2021-12-20        | 2.1     | Malika     | Updated the links            |\n| 2020-09-02        | 2.0     | Simran     | Template updates to the file |\n|                   |         |            |                              |\n|                   |         |            |                              |\n\n--!>\n",
      "metadata": {}
    }
  ]
}